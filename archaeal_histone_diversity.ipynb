{
 "cells": [
  {
   "cell_type": "markdown",
   "metadata": {},
   "source": [
    "# How diverse are archaeal histones?\n",
    "## Approach \n",
    "To look at the diversity of histones in archaea we need to:\n",
    "0. Collect all archaeal proteins.\n",
    "1. Identify which proteins are histones.\n",
    "2. Create database having at least gene name, sequence, genomic GC, and type of phile (use keywords and look through each species). \n",
    "3. Vizualize these histones on 3D scatterplot (length vs genomic GC vs pI).\n",
    "4. Use half_blast to identify doublet proteins.\n",
    "5. Use sklearn to cluster proteins:\n",
    "    1. 3 dimensions: length, genomic GC, pI.\n",
    "    2. n dimensions: 3-mer(or other mer of aligned protiens).\n",
    "    3. n dimensions: each amino acid of aligned protiens.\n",
    "6. Evaluate each cluster:\n",
    "    1. Find average or median protein from each cluster.\n",
    "    2. See what are the characteristic of each group.\n",
    "    3. Figure out which phyla are represented in each cluster."
   ]
  },
  {
   "cell_type": "code",
   "execution_count": null,
   "metadata": {},
   "outputs": [],
   "source": []
  }
 ],
 "metadata": {
  "kernelspec": {
   "display_name": "Python 3",
   "language": "python",
   "name": "python3"
  },
  "language_info": {
   "codemirror_mode": {
    "name": "ipython",
    "version": 3
   },
   "file_extension": ".py",
   "mimetype": "text/x-python",
   "name": "python",
   "nbconvert_exporter": "python",
   "pygments_lexer": "ipython3",
   "version": "3.8.0"
  }
 },
 "nbformat": 4,
 "nbformat_minor": 2
}
