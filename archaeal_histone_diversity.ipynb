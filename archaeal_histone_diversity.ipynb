{
 "cells": [
  {
   "cell_type": "markdown",
   "metadata": {},
   "source": [
    "# How diverse are archaeal histones?\n",
    "## Approach \n",
    "To look at the diversity of histones in archaea we need to:\n",
    "0. Collect all archaeal proteins.\n",
    "1. Download hmm-profile to search against.\n",
    "1. Identify which proteins are histones using hmmsearch.\n",
    "2. Create database having at least gene name, sequence, genomic GC, and type of phile (use keywords and look through each species). \n",
    "3. Vizualize these histones on 3D scatterplot (length vs genomic GC vs pI).\n",
    "4. Use half_blast to identify doublet proteins.\n",
    "5. Use sklearn to cluster proteins:\n",
    "    1. 3 dimensions: length, genomic GC, pI.\n",
    "    2. n dimensions: 3-mer(or other mer of aligned protiens).\n",
    "    3. n dimensions: each amino acid of aligned protiens.\n",
    "6. Evaluate each cluster:\n",
    "    1. Find average or median protein from each cluster.\n",
    "    2. See what are the characteristic of each group.\n",
    "    3. Figure out which phyla are represented in each cluster."
   ]
  },
  {
   "cell_type": "markdown",
   "metadata": {},
   "source": [
    "#### 1. Collect all archaeal proteins using slurm script on fiji. (will need to install NCBI's eDirect) ~11hrs for 6.3 mil proteins"
   ]
  },
  {
   "cell_type": "code",
   "execution_count": 7,
   "metadata": {},
   "outputs": [
    {
     "name": "stdout",
     "output_type": "stream",
     "text": [
      "/bin/sh: esearch: command not found\r\n",
      "/bin/sh: efetch: command not found\r\n"
     ]
    }
   ],
   "source": [
    "!sbatch fetch_archaeal_proteins.q"
   ]
  },
  {
   "cell_type": "markdown",
   "metadata": {},
   "source": [
    "#### The .fa file is named with a date, so as not to overwrite it next time (ex. archaeal_proteins_20191203.fa)\n",
    "#### 2. Now we need to download the eukaryotic histone hmm-profile to search our database against.\n",
    "To do this, we can just go to http://pfam.xfam.org/family/PF00125#tabview=tab3\n",
    "Under format alignment, select: \n",
    "Alignment: Seed \n",
    "Format: Stockholm\n",
    "Order: Tree\n",
    "Sequence: Inserts lower case\n",
    "Gaps: Gaps as \"-\" (dashes)\n",
    "Download/view: Download\n",
    "\n",
    "Once downloaded, move into working directory (ex. PF00125_seed.txt)\n",
    "\n",
    "#### Time to build the hmm-profile\n",
    "On fiji (or install hmmer on local machine) execute the following, will build .hmm file called euk_histones.hmm (you can also call build_hmm_profile.sh)"
   ]
  },
  {
   "cell_type": "code",
   "execution_count": 1,
   "metadata": {},
   "outputs": [
    {
     "name": "stdout",
     "output_type": "stream",
     "text": [
      "# hmmbuild :: profile HMM construction from multiple sequence alignments\n",
      "# HMMER 3.1b2 (February 2015); http://hmmer.org/\n",
      "# Copyright (C) 2015 Howard Hughes Medical Institute.\n",
      "# Freely distributed under the GNU General Public License (GPLv3).\n",
      "# - - - - - - - - - - - - - - - - - - - - - - - - - - - - - - - - - - - -\n",
      "# input alignment file:             PF00125_seed.txt\n",
      "# output HMM file:                  euk_histones.hmm\n",
      "# - - - - - - - - - - - - - - - - - - - - - - - - - - - - - - - - - - - -\n",
      "\n",
      "# idx name                  nseq  alen  mlen eff_nseq re/pos description\n",
      "#---- -------------------- ----- ----- ----- -------- ------ -----------\n",
      "1     PF00125_seed            29   142   131     6.04  0.590 \n",
      "\n",
      "# CPU time: 0.13u 0.01s 00:00:00.14 Elapsed: 00:00:00.15\n"
     ]
    }
   ],
   "source": [
    "%%bash\n",
    "module purge\n",
    "module load hmmer\n",
    "hmmbuild euk_histones.hmm PF00125_seed.txt"
   ]
  },
  {
   "cell_type": "markdown",
   "metadata": {},
   "source": [
    "#### 3. Use the archaeal protein fasta file and the hmm-profile to hmmsearch for archaeal histones. (might want to execute hmmsearch.q through sbatch instead). "
   ]
  },
  {
   "cell_type": "code",
   "execution_count": 4,
   "metadata": {},
   "outputs": [
    {
     "name": "stderr",
     "output_type": "stream",
     "text": [
      "bash: line 1: sbatch: command not found\n"
     ]
    }
   ],
   "source": [
    "module purge\n",
    "module load hmmer\n",
    "d=`date +%Y%m%d`\n",
    "hmmsearch euk_histones.hmm archaeal_proteins_20191203.fa > arc_histones_hits_${d}.out"
   ]
  },
  {
   "cell_type": "markdown",
   "metadata": {},
   "source": [
    "#### Output looks like:\n",
    "\n",
    " hmmsearch :: search profile(s) against a sequence database\n",
    " HMMER 3.1b2 (February 2015); http://hmmer.org/\n",
    " Copyright (C) 2015 Howard Hughes Medical Institute.\n",
    " Freely distributed under the GNU General Public License (GPLv3).\n",
    " - - - - - - - - - - - - - - - - - - - - - - - - - - - - - - - - - - - -\n",
    " query HMM file:                  euk_histones.hmm\n",
    " target sequence database:        archaeal_proteins_20191203.fa\n",
    " - - - - - - - - - - - - - - - - - - - - - - - - - - - - - - - - - - - -\n",
    "\n",
    "Query:       PF00125_seed  [M=131]\n",
    "Scores for complete sequences (score includes all domains):\n",
    "   --- full sequence ---   --- best 1 domain ---    -#dom-\n",
    "    E-value  score  bias    E-value  score  bias    exp  N  Sequence               Description\n",
    "    ------- ------ -----    ------- ------ -----   ---- --  --------               -----------\n",
    "    1.6e-48  172.7   1.5    1.7e-48  172.5   1.5    1.0  1  RYG58632.1              hypothetical protein EON64_21105 [arc\n",
    "    8.8e-47  167.0   0.1    1.1e-46  166.7   0.1    1.0  1  RYG46762.1              hypothetical protein EON67_09185, par\n",
    "    8.9e-40  144.3   0.6      1e-39  144.1   0.6    1.0  1  RYH04814.1              hypothetical protein EON65_46445 [arc\n",
    "    8.8e-33  121.7   0.3    1.6e-20   82.0   0.2    2.0  2  RYG51695.1              hypothetical protein EON67_02840 [arc\n",
    "    5.8e-17   70.5   0.2    6.3e-17   70.4   0.2    1.0  1  RYH19767.1              hypothetical protein EON65_25540 [arc\n",
    "    8.9e-16   66.7   0.0    1.1e-15   66.4   0.0    1.2  1  RYG62260.1              hypothetical protein EON64_18045, par\n",
    "    9.6e-16   66.6   0.0    1.2e-15   66.3   0.0    1.2  1  RYH06781.1              hypothetical protein EON65_42495 [arc\n",
    "    1.6e-15   65.8   0.4    6.5e-08   41.2   0.4    2.0  2  EJN60957.1              histone-like protein [Halogranum sala\n",
    "      2e-15   65.5   0.6    6.3e-08   41.3   0.4    2.0  2  WP_049893615.1          aldolase [Halogranum salarium]\n",
    "    2.9e-15   65.0   0.1    1.2e-13   59.8   0.0    2.1  1  RYG62261.1              hypothetical protein EON64_18050 [arc\n",
    "    6.2e-15   63.9   0.5    6.3e-08   41.3   0.4    2.0  2  SFL21946.1              histone H3/H4 [Halogranum rubrum]\n",
    "    6.2e-15   63.9   0.5    6.3e-08   41.3   0.4    2.0  2  WP_089870122.1          aldolase [Halogranum rubrum]\n",
    "    7.9e-15   63.6   0.2    8.4e-15   63.5   0.2    1.0  1  RYG45536.1              hypothetical protein EON67_10485, par\n",
    "    1.9e-14   62.4   0.0    2.5e-14   62.0   0.0    1.1  1  RYH21862.1              hypothetical protein EON65_20030 [arc\n",
    "    2.1e-14   62.2   0.2    4.7e-08   41.7   0.1    2.0  2  ELY56629.1              Transcription factor CBF/NF-Y/histone\n",
    "    2.1e-14   62.2   0.2    4.7e-08   41.7   0.1    2.0  2  WP_007259217.1          transcription factor CBF/NF-Y/histone\n"
   ]
  },
  {
   "cell_type": "markdown",
   "metadata": {},
   "source": [
    "#### I'm going to move to my local machine now."
   ]
  },
  {
   "cell_type": "code",
   "execution_count": null,
   "metadata": {},
   "outputs": [],
   "source": []
  }
 ],
 "metadata": {
  "kernelspec": {
   "display_name": "Python 3",
   "language": "python",
   "name": "python3"
  },
  "language_info": {
   "codemirror_mode": {
    "name": "ipython",
    "version": 3
   },
   "file_extension": ".py",
   "mimetype": "text/x-python",
   "name": "python",
   "nbconvert_exporter": "python",
   "pygments_lexer": "ipython3",
   "version": "3.6.3"
  }
 },
 "nbformat": 4,
 "nbformat_minor": 2
}
